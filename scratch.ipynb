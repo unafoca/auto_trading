{
 "cells": [
  {
   "cell_type": "code",
   "execution_count": 8,
   "id": "3f62c4b4",
   "metadata": {},
   "outputs": [],
   "source": [
    "from alpaca.trading.client import TradingClient\n",
    "from alpaca.trading.requests import MarketOrderRequest\n",
    "from alpaca.trading.enums import OrderSide, TimeInForce\n",
    "\n",
    "from alpaca.trading.requests import GetAssetsRequest\n",
    "from alpaca.trading.enums import AssetClass\n",
    "\n",
    "import datetime\n"
   ]
  },
  {
   "cell_type": "code",
   "execution_count": 9,
   "id": "fed8639e",
   "metadata": {},
   "outputs": [],
   "source": [
    "APCA_API_KEY_ID = 'PKX0AAG6C8HA93V4M7Q4'\n",
    "APCA_API_SECRET_KEY = 'RVTYqQ4cS3cbqBqgxrsJkgsGlhOG1j6wz4V4BvkW'\n",
    "APCA_API_BASE_URL = 'https://paper-api.alpaca.markets'  # Use the paper trading URL for testing\n"
   ]
  },
  {
   "cell_type": "code",
   "execution_count": 10,
   "id": "de735e8c",
   "metadata": {},
   "outputs": [],
   "source": [
    "trading_client = TradingClient(APCA_API_KEY_ID, APCA_API_SECRET_KEY, paper=True)"
   ]
  },
  {
   "cell_type": "code",
   "execution_count": 11,
   "id": "386172a2",
   "metadata": {},
   "outputs": [],
   "source": [
    "search_params = GetAssetsRequest(asset_class=AssetClass.CRYPTO)"
   ]
  },
  {
   "cell_type": "code",
   "execution_count": 13,
   "id": "e8ea8d90",
   "metadata": {},
   "outputs": [],
   "source": [
    "# trading_client.get_all_assets(search_params)"
   ]
  },
  {
   "cell_type": "code",
   "execution_count": null,
   "id": "99d9d5f0",
   "metadata": {},
   "outputs": [],
   "source": [
    "market_order_data = MarketOrderRequest(\n",
    "                      symbol=\"SPY\",\n",
    "                      qty=1,\n",
    "                      side=OrderSide.BUY,\n",
    "                      time_in_force=TimeInForce.GTC\n",
    "                  )"
   ]
  },
  {
   "cell_type": "code",
   "execution_count": 15,
   "id": "d4de9e6a",
   "metadata": {},
   "outputs": [],
   "source": [
    "market_order_data = MarketOrderRequest(\n",
    "                      symbol=\"BTC/USD\",\n",
    "                      qty=0.0001,\n",
    "                      side=OrderSide.BUY,\n",
    "                      time_in_force=TimeInForce.GTC\n",
    "                  )\n",
    "\n",
    "# Market order\n",
    "market_order = trading_client.submit_order(\n",
    "                order_data=market_order_data\n",
    "               )"
   ]
  },
  {
   "cell_type": "code",
   "execution_count": null,
   "id": "3a23d648",
   "metadata": {},
   "outputs": [],
   "source": []
  }
 ],
 "metadata": {
  "kernelspec": {
   "display_name": "Python 3 (ipykernel)",
   "language": "python",
   "name": "python3"
  },
  "language_info": {
   "codemirror_mode": {
    "name": "ipython",
    "version": 3
   },
   "file_extension": ".py",
   "mimetype": "text/x-python",
   "name": "python",
   "nbconvert_exporter": "python",
   "pygments_lexer": "ipython3",
   "version": "3.9.13"
  }
 },
 "nbformat": 4,
 "nbformat_minor": 5
}
